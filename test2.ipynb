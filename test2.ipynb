{
 "cells": [
  {
   "cell_type": "code",
   "execution_count": 16,
   "metadata": {
    "collapsed": false
   },
   "outputs": [],
   "source": [
    "import numpy as np\n",
    "import matplotlib.pyplot as plt\n",
    "\n",
    "counter =0.\n",
    "min_sides = 2\n",
    "max_sides = 9\n",
    "linethickness  = 15.\n",
    "blackthickness = 17.\n",
    "max_r  = 1.5\n",
    "style =1\n",
    "fig, axes = plt.subplots(1,1, figsize=(20,20))\n",
    "cm = plt.get_cmap('inferno_r')\n",
    "nColors  =  max_sides \n",
    "mycolors = [cm(x) for x in np.linspace(0,1 , nColors)] \n",
    "maxx = 0.\n",
    "while counter < 2000:\n",
    "    counter+=1\n",
    "    x = np.random.uniform(min_sides,max_sides,1)\n",
    "    y = np.random.uniform(min_sides,max_sides,1)\n",
    "    r = np.random.uniform(0, max_r, 1)\n",
    "    nr_sides = int((x + y)/2.)\n",
    "    colourX = max_sides - x\n",
    "    colourY = 0 + y\n",
    "    colourNr = int((colourX + colourY)/2.)\n",
    "    if colourNr > maxx:\n",
    "        maxx = colourNr\n",
    "    starting_angle = np.random.uniform(0,2*np.pi,1)\n",
    "    increment = 2*np.pi/float(nr_sides)\n",
    "    figureX = np.zeros(nr_sides+1)\n",
    "    figureY = np.zeros(nr_sides+1)\n",
    "\n",
    "    for i in range(nr_sides+1):\n",
    "        figureX[i] = np.cos(starting_angle + increment*i)*r + x\n",
    "        figureY[i] = np.sin(starting_angle + increment*i)*r + y\n",
    "        if style == 3:\n",
    "            axes.plot(figureX, figureY, lw=linethickness, c= mycolors[colourNr])\n",
    "            axes.plot(figureX, figureY, lw=blackthickness, c= 'k')\n",
    "    if style == 1:\n",
    "        axes.plot(figureX, figureY, lw=blackthickness, c= 'k')\n",
    "        axes.plot(figureX, figureY, lw=linethickness, c= mycolors[colourNr])\n",
    "\n",
    "axes.set_xlim(min_sides,max_sides)\n",
    "axes.set_ylim(min_sides,max_sides)\n",
    "axes.axis('off')\n",
    "#plt.show()\n",
    "\n",
    "#print maxx\n",
    "plt.savefig('test2.svg',bbox_inches='tight', pad_inches=-1)"
   ]
  },
  {
   "cell_type": "code",
   "execution_count": null,
   "metadata": {
    "collapsed": true
   },
   "outputs": [],
   "source": []
  }
 ],
 "metadata": {
  "kernelspec": {
   "display_name": "Python 2",
   "language": "python",
   "name": "python2"
  },
  "language_info": {
   "codemirror_mode": {
    "name": "ipython",
    "version": 2
   },
   "file_extension": ".py",
   "mimetype": "text/x-python",
   "name": "python",
   "nbconvert_exporter": "python",
   "pygments_lexer": "ipython2",
   "version": "2.7.12"
  }
 },
 "nbformat": 4,
 "nbformat_minor": 2
}

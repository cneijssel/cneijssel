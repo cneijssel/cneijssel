{
 "cells": [
  {
   "cell_type": "code",
   "execution_count": 51,
   "metadata": {
    "collapsed": true
   },
   "outputs": [],
   "source": [
    "import numpy as np\n",
    "import matplotlib.pyplot as plt"
   ]
  },
  {
   "cell_type": "markdown",
   "metadata": {},
   "source": [
    "Start with the motion of a point mass on a circular path.\n",
    "Remember the following identities\n",
    "\n",
    "$$x=r cos(\\theta)\\cdot\\ \\boldsymbol{\\hat{i}}\\ \\ (1)$$\n",
    "$$y=r sin(\\theta)\\cdot\\ \\boldsymbol{\\hat{j}}\\ \\ (2)$$\n",
    "\n",
    "where $\\hat{i}$ and $\\hat{j}$ are the unit vectors in the x, y direction\n",
    "The velocity of a particle  can be decomposed into the x-y direction\n",
    "\n",
    "$$v = v_{x} + v_{y} = \\frac{dx}{dt} + \\frac{dy}{dt}\\ \\ (3)$$\n",
    "\n",
    "From the chain rule we know \n",
    "\n",
    "$$ \\frac{dz}{dt} = \\frac{dz}{d\\theta} \\frac{d\\theta}{dt}\\ \\ (4)$$\n",
    "hence\n",
    "$$ v = \\frac{dx}{d\\theta} \\frac{d\\theta}{dt} + \\frac{dy}{d\\theta} \\frac{d\\theta}{dt} \\ \\ (5)$$\n",
    "\n",
    "taking $\\frac{d}{d\\theta}$ of (1) and (2) and substituting into (5), note\n",
    "that because it is a circle $\\frac{dr}{d\\theta}=0$\n",
    "\n",
    "$$ v = r (-sin(\\theta)) \\frac{d\\theta}{dt}\\  \\boldsymbol{\\hat{i}} + r cos (\\theta)\\frac{d\\theta}{dt} \\ \\boldsymbol{\\hat{j}}  \\ \\ (6)$$\n",
    "\n",
    "We define $\\frac{d\\theta}{dt}$ as the angular speed $\\omega$ with units [$rad\\ s^{-1}$] and (6) becomes\n",
    "\n",
    "\n",
    "$$ \\boldsymbol{v} = r\\omega [cos (\\theta)\\ \\boldsymbol{\\hat{j}} -sin(\\theta)\\  \\boldsymbol{\\hat{i}}]\\ \\ (7)$$\n",
    "\n",
    "The absolute value of v without direction is the root of the inner-product $\\boldsymbol{v} \\cdot \\boldsymbol{v}$\n",
    "\n",
    "$$ |\\boldsymbol{v}|=v = \\sqrt{\\boldsymbol{v} \\cdot \\boldsymbol{v}} = r \\omega [cos^{2}(\\theta) + sin^{2}(\\theta)] = r\\omega $$\n",
    "\n",
    "The direction of v depends on $\\omega$ and changes in time. This means $\\frac{d\\boldsymbol{v}}{dt}$ is not constant and \n",
    "the particle experiences an acceleration.\n",
    "\n",
    "$$ \\boldsymbol{a}=\\frac{d\\boldsymbol{v}}{dt} = \\frac{d}{dt} (r\\omega [cos (\\theta)\\ \\boldsymbol{\\hat{j}} -sin(\\theta)\\  \\boldsymbol{\\hat{i}}]) $$\n",
    "\n",
    "Assume both r and $\\omega$ constant,\n",
    "\n",
    "$$ \\boldsymbol{a}= r\\omega [-sin (\\theta)\\omega \\ \\boldsymbol{\\hat{j}} -cos(\\theta)\\omega \\  \\boldsymbol{\\hat{i}}]=-r\\omega^{2}[cos(\\theta)\\  \\boldsymbol{\\hat{i}} + sin (\\theta)\\ \\boldsymbol{\\hat{j}}] $$\n",
    "\n",
    "Where again if we want to know the absolute value we recover;\n",
    "$$a = -r\\omega^{2} = -\\frac{v^{2}}{r}$$\n",
    "\n",
    "Hence the force needed to keep the partical of mass m on a circular path by Newtons 2nd law;\n",
    "\n",
    "$$ F = m * a = -\\frac{ m v^{2}}{r}$$ \n",
    "\n",
    "where the direction depends on $\\theta$ by $[cos(\\theta)\\  \\boldsymbol{\\hat{i}} + sin (\\theta)\\ \\boldsymbol{\\hat{j}}]$"
   ]
  },
  {
   "cell_type": "code",
   "execution_count": 57,
   "metadata": {
    "collapsed": false
   },
   "outputs": [
    {
     "name": "stdout",
     "output_type": "stream",
     "text": [
      "-0.394784176044 0.394784176044 absolute vs sum Forces\n"
     ]
    },
    {
     "data": {
      "image/png": "[encoded data removed]",
      "text/plain": [
       "<matplotlib.figure.Figure at 0x7f3293d94ed0>"
      ]
     },
     "metadata": {},
     "output_type": "display_data"
    }
   ],
   "source": [
    "def centrifugalForce(th, m, v, r):\n",
    "\n",
    "    \n",
    "    acceleration_x = -r * (omega**2) * np.cos(th)\n",
    "    acceleration_y = -r * (omega**2) * np.sin(th)\n",
    "\n",
    "    Fx = m * acceleration_x\n",
    "    Fy = m * acceleration_y\n",
    "    F  = (- m*(v**2)) / float(r)\n",
    "    print F, np.sqrt(Fx**2 + Fy**2), 'absolute vs sum Forces'\n",
    "    return Fx, Fy\n",
    "\n",
    "mass     = 1 #kg\n",
    "period   = 10 #seconds\n",
    "radius   = 1  #m\n",
    "omega    = (2*np.pi*radius)/float(period)\n",
    "velocity = omega * radius \n",
    "theta    =   0.2*np.pi  #rad\n",
    "\n",
    "\n",
    "\n",
    "\n",
    "\n",
    "fig, axes = plt.subplots(1,1, figsize = (5, 5))\n",
    "#plot circle\n",
    "angles = np.linspace(0,2*np.pi, 1e4)\n",
    "axes.plot(np.cos(angles)*radius,np.sin(angles)*radius, lw=0.2)\n",
    "#plot position point\n",
    "x = radius * np.cos(theta)\n",
    "y = radius * np.sin(theta)\n",
    "axes.scatter(x,y)\n",
    "#plot direction Force (unit vector length 1) Blue\n",
    "dx =  -np.cos(theta)\n",
    "dy =  -np.sin(theta)\n",
    "axes.arrow(x, y, dx, dy, head_width=0.05, fc='b')\n",
    "#plot Force with direction Red\n",
    "Fx, Fy = centrifugalForce(theta, mass, velocity, radius)\n",
    "axes.arrow(x, y, Fx, Fy, head_width=0.05, fc='r')\n",
    "\n",
    "plt.show()\n"
   ]
  },
  {
   "cell_type": "markdown",
   "metadata": {},
   "source": [
    "Spoilers for stars it is the gravitational force of the other star supplying the force needed to keep it in orbit, but then we also need to look at the Center of Mass (segway :p)"
   ]
  },
  {
   "cell_type": "code",
   "execution_count": null,
   "metadata": {
    "collapsed": true
   },
   "outputs": [],
   "source": []
  }
 ],
 "metadata": {
  "kernelspec": {
   "display_name": "Python 2",
   "language": "python",
   "name": "python2"
  },
  "language_info": {
   "codemirror_mode": {
    "name": "ipython",
    "version": 2
   },
   "file_extension": ".py",
   "mimetype": "text/x-python",
   "name": "python",
   "nbconvert_exporter": "python",
   "pygments_lexer": "ipython2",
   "version": "2.7.12"
  }
 },
 "nbformat": 4,
 "nbformat_minor": 2
}
